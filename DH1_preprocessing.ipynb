{
  "nbformat": 4,
  "nbformat_minor": 0,
  "metadata": {
    "kernelspec": {
      "display_name": "Python 3",
      "language": "python",
      "name": "python3"
    },
    "language_info": {
      "codemirror_mode": {
        "name": "ipython",
        "version": 3
      },
      "file_extension": ".py",
      "mimetype": "text/x-python",
      "name": "python",
      "nbconvert_exporter": "python",
      "pygments_lexer": "ipython3",
      "version": "3.8.5"
    },
    "colab": {
      "name": "DH1_preprocessing.ipynb",
      "provenance": [],
      "toc_visible": true
    }
  },
  "cells": [
    {
      "cell_type": "markdown",
      "metadata": {
        "id": "bqIiI_7SrIG4"
      },
      "source": [
        "## Подключение необходимых моудлей"
      ]
    },
    {
      "cell_type": "markdown",
      "metadata": {
        "id": "58CBkZG6saf2"
      },
      "source": [
        "Работа была сделана в Колабе, поэтому некоторые модули сначала надо установить\n"
      ]
    },
    {
      "cell_type": "code",
      "metadata": {
        "colab": {
          "base_uri": "https://localhost:8080/"
        },
        "id": "T_CLLMUtUN_n",
        "outputId": "bb63d4a3-3dcb-4698-d76d-85c62ed99eb7"
      },
      "source": [
        "!pip install pymorphy2"
      ],
      "execution_count": 6,
      "outputs": [
        {
          "output_type": "stream",
          "text": [
            "Collecting pymorphy2\n",
            "\u001b[?25l  Downloading https://files.pythonhosted.org/packages/07/57/b2ff2fae3376d4f3c697b9886b64a54b476e1a332c67eee9f88e7f1ae8c9/pymorphy2-0.9.1-py3-none-any.whl (55kB)\n",
            "\r\u001b[K     |██████                          | 10kB 13.1MB/s eta 0:00:01\r\u001b[K     |███████████▉                    | 20kB 17.1MB/s eta 0:00:01\r\u001b[K     |█████████████████▊              | 30kB 14.3MB/s eta 0:00:01\r\u001b[K     |███████████████████████▋        | 40kB 9.6MB/s eta 0:00:01\r\u001b[K     |█████████████████████████████▌  | 51kB 8.2MB/s eta 0:00:01\r\u001b[K     |████████████████████████████████| 61kB 4.5MB/s \n",
            "\u001b[?25hCollecting dawg-python>=0.7.1\n",
            "  Downloading https://files.pythonhosted.org/packages/6a/84/ff1ce2071d4c650ec85745766c0047ccc3b5036f1d03559fd46bb38b5eeb/DAWG_Python-0.7.2-py2.py3-none-any.whl\n",
            "Collecting pymorphy2-dicts-ru<3.0,>=2.4\n",
            "\u001b[?25l  Downloading https://files.pythonhosted.org/packages/3a/79/bea0021eeb7eeefde22ef9e96badf174068a2dd20264b9a378f2be1cdd9e/pymorphy2_dicts_ru-2.4.417127.4579844-py2.py3-none-any.whl (8.2MB)\n",
            "\u001b[K     |████████████████████████████████| 8.2MB 10.7MB/s \n",
            "\u001b[?25hRequirement already satisfied: docopt>=0.6 in /usr/local/lib/python3.7/dist-packages (from pymorphy2) (0.6.2)\n",
            "Installing collected packages: dawg-python, pymorphy2-dicts-ru, pymorphy2\n",
            "Successfully installed dawg-python-0.7.2 pymorphy2-0.9.1 pymorphy2-dicts-ru-2.4.417127.4579844\n"
          ],
          "name": "stdout"
        }
      ]
    },
    {
      "cell_type": "code",
      "metadata": {
        "id": "nXmhNaU0UN_d"
      },
      "source": [
        "import pandas as pd"
      ],
      "execution_count": 7,
      "outputs": []
    },
    {
      "cell_type": "code",
      "metadata": {
        "id": "VbsWD2ZaaGTO"
      },
      "source": [
        "from pymorphy2 import MorphAnalyzer\n",
        "morph = MorphAnalyzer()"
      ],
      "execution_count": 8,
      "outputs": []
    },
    {
      "cell_type": "code",
      "metadata": {
        "colab": {
          "base_uri": "https://localhost:8080/"
        },
        "id": "m7F0y5D-lKB7",
        "outputId": "c93227de-7dce-441b-cfdc-7c9581960aab"
      },
      "source": [
        "import nltk\n",
        "nltk.download('punkt')"
      ],
      "execution_count": 9,
      "outputs": [
        {
          "output_type": "stream",
          "text": [
            "[nltk_data] Downloading package punkt to /root/nltk_data...\n",
            "[nltk_data]   Unzipping tokenizers/punkt.zip.\n"
          ],
          "name": "stdout"
        },
        {
          "output_type": "execute_result",
          "data": {
            "text/plain": [
              "True"
            ]
          },
          "metadata": {
            "tags": []
          },
          "execution_count": 9
        }
      ]
    },
    {
      "cell_type": "code",
      "metadata": {
        "id": "k_epjfFaa0-R"
      },
      "source": [
        "from nltk.tokenize import word_tokenize, sent_tokenize"
      ],
      "execution_count": 10,
      "outputs": []
    },
    {
      "cell_type": "markdown",
      "metadata": {
        "id": "4-JDLaNhskZY"
      },
      "source": [
        "## Создание корпуса Instagram блогов"
      ]
    },
    {
      "cell_type": "code",
      "metadata": {
        "id": "tFARfYOzUN_g"
      },
      "source": [
        "def read_txt(filename):\n",
        "    with open(filename, encoding = 'utf-8') as f:\n",
        "        return f.read()"
      ],
      "execution_count": 11,
      "outputs": []
    },
    {
      "cell_type": "code",
      "metadata": {
        "id": "hkm5kePgUN_h"
      },
      "source": [
        "names_t = read_txt('names.txt')\n",
        "texts_t = read_txt('textes2.txt')\n",
        "likes_t = read_txt('likes.txt')"
      ],
      "execution_count": 12,
      "outputs": []
    },
    {
      "cell_type": "code",
      "metadata": {
        "id": "YiEy9D7cUN_i"
      },
      "source": [
        "df = pd.DataFrame({'names': names_t.split('.txt\\n---\\n')[:-1],\n",
        "                  'texts': texts_t.split('---\\n')[:-1],\n",
        "                  'likes': list(map(int, likes_t.split('\\n---\\n')[:-1]))})"
      ],
      "execution_count": 25,
      "outputs": []
    },
    {
      "cell_type": "code",
      "metadata": {
        "colab": {
          "base_uri": "https://localhost:8080/",
          "height": 204
        },
        "id": "-JS8sQrnUN_j",
        "outputId": "8f3278fa-8767-4b25-cdfa-96f29be8db7d"
      },
      "source": [
        "df.head()"
      ],
      "execution_count": 14,
      "outputs": [
        {
          "output_type": "execute_result",
          "data": {
            "text/html": [
              "<div>\n",
              "<style scoped>\n",
              "    .dataframe tbody tr th:only-of-type {\n",
              "        vertical-align: middle;\n",
              "    }\n",
              "\n",
              "    .dataframe tbody tr th {\n",
              "        vertical-align: top;\n",
              "    }\n",
              "\n",
              "    .dataframe thead th {\n",
              "        text-align: right;\n",
              "    }\n",
              "</style>\n",
              "<table border=\"1\" class=\"dataframe\">\n",
              "  <thead>\n",
              "    <tr style=\"text-align: right;\">\n",
              "      <th></th>\n",
              "      <th>names</th>\n",
              "      <th>texts</th>\n",
              "      <th>likes</th>\n",
              "    </tr>\n",
              "  </thead>\n",
              "  <tbody>\n",
              "    <tr>\n",
              "      <th>0</th>\n",
              "      <td>dariko_kutaladze</td>\n",
              "      <td>Вчера я побывала в ВОЛШЕБНОМ месте из своих за...</td>\n",
              "      <td>19781</td>\n",
              "    </tr>\n",
              "    <tr>\n",
              "      <th>1</th>\n",
              "      <td>dariko_kutaladze</td>\n",
              "      <td>15 минут и 50 рублей, чтобы сделать необычную ...</td>\n",
              "      <td>21013</td>\n",
              "    </tr>\n",
              "    <tr>\n",
              "      <th>2</th>\n",
              "      <td>dariko_kutaladze</td>\n",
              "      <td>Загадочная история Бенджамина...Пуфика😂\\n\\nИли...</td>\n",
              "      <td>20723</td>\n",
              "    </tr>\n",
              "    <tr>\n",
              "      <th>3</th>\n",
              "      <td>dariko_kutaladze</td>\n",
              "      <td>Говорят, как Новый год встретишь, так его и п...</td>\n",
              "      <td>29809</td>\n",
              "    </tr>\n",
              "    <tr>\n",
              "      <th>4</th>\n",
              "      <td>dariko_kutaladze</td>\n",
              "      <td>Как говорил великий Лев Толстой: «Счастлив т...</td>\n",
              "      <td>16636</td>\n",
              "    </tr>\n",
              "  </tbody>\n",
              "</table>\n",
              "</div>"
            ],
            "text/plain": [
              "              names                                              texts  likes\n",
              "0  dariko_kutaladze  Вчера я побывала в ВОЛШЕБНОМ месте из своих за...  19781\n",
              "1  dariko_kutaladze  15 минут и 50 рублей, чтобы сделать необычную ...  21013\n",
              "2  dariko_kutaladze  Загадочная история Бенджамина...Пуфика😂\\n\\nИли...  20723\n",
              "3  dariko_kutaladze  Говорят, как Новый год встретишь, так его и п...  29809\n",
              "4  dariko_kutaladze  Как говорил великий Лев Толстой: «Счастлив т...  16636"
            ]
          },
          "metadata": {
            "tags": []
          },
          "execution_count": 14
        }
      ]
    },
    {
      "cell_type": "code",
      "metadata": {
        "colab": {
          "base_uri": "https://localhost:8080/"
        },
        "id": "IfTCGWesUN_k",
        "outputId": "6605cac4-864e-45b6-b3d6-5108b92439b2"
      },
      "source": [
        "df.shape"
      ],
      "execution_count": 15,
      "outputs": [
        {
          "output_type": "execute_result",
          "data": {
            "text/plain": [
              "(650, 3)"
            ]
          },
          "metadata": {
            "tags": []
          },
          "execution_count": 15
        }
      ]
    },
    {
      "cell_type": "code",
      "metadata": {
        "id": "tJaLo9WtlxA6"
      },
      "source": [
        "def lemmatize(word):\n",
        "  return morph.parse(word)[0].normal_form\n",
        " \n",
        "def lemmatize_text(text):\n",
        "  tokens = [[t.lower() for t in word_tokenize(sent) if t.isalpha()] for sent in sent_tokenize(text)]\n",
        "  return '. '.join([' '.join([lemmatize(w) for w in t]).capitalize() for t in tokens if len(t)>0])"
      ],
      "execution_count": 17,
      "outputs": []
    },
    {
      "cell_type": "code",
      "metadata": {
        "id": "MSIX4VY_pTaM"
      },
      "source": [
        "def pos(word):\n",
        "  return morph.parse(word)[0].tag.POS\n",
        "\n",
        "def pos_text(text):\n",
        "  tokens = [[t.lower() for t in word_tokenize(sent) if t.isalpha()] for sent in sent_tokenize(text)]\n",
        "  return '. '.join([' '.join([pos(w) for w in t if pos(w)]) for t in tokens if len(t)>0])"
      ],
      "execution_count": 18,
      "outputs": []
    },
    {
      "cell_type": "code",
      "metadata": {
        "id": "x9p6Ot05c6TE"
      },
      "source": [
        "df['lemmatized_text'] = df['texts'].apply(lemmatize_text)"
      ],
      "execution_count": 26,
      "outputs": []
    },
    {
      "cell_type": "code",
      "metadata": {
        "id": "7qyPRCsigo2K"
      },
      "source": [
        "df['pos'] = df['texts'].apply(pos_text)"
      ],
      "execution_count": 27,
      "outputs": []
    },
    {
      "cell_type": "code",
      "metadata": {
        "colab": {
          "base_uri": "https://localhost:8080/",
          "height": 357
        },
        "id": "Mt-BomoPdE52",
        "outputId": "832d7a84-8138-4c23-8cc0-7896fc244cd5"
      },
      "source": [
        "df.head()"
      ],
      "execution_count": 28,
      "outputs": [
        {
          "output_type": "execute_result",
          "data": {
            "text/html": [
              "<div>\n",
              "<style scoped>\n",
              "    .dataframe tbody tr th:only-of-type {\n",
              "        vertical-align: middle;\n",
              "    }\n",
              "\n",
              "    .dataframe tbody tr th {\n",
              "        vertical-align: top;\n",
              "    }\n",
              "\n",
              "    .dataframe thead th {\n",
              "        text-align: right;\n",
              "    }\n",
              "</style>\n",
              "<table border=\"1\" class=\"dataframe\">\n",
              "  <thead>\n",
              "    <tr style=\"text-align: right;\">\n",
              "      <th></th>\n",
              "      <th>names</th>\n",
              "      <th>texts</th>\n",
              "      <th>likes</th>\n",
              "      <th>lemmatized_text</th>\n",
              "      <th>pos</th>\n",
              "    </tr>\n",
              "  </thead>\n",
              "  <tbody>\n",
              "    <tr>\n",
              "      <th>0</th>\n",
              "      <td>dariko_kutaladze</td>\n",
              "      <td>Вчера я побывала в ВОЛШЕБНОМ месте из своих за...</td>\n",
              "      <td>19781</td>\n",
              "      <td>Вчера я побывать в волшебный место из свой зак...</td>\n",
              "      <td>ADVB NPRO VERB PREP ADJF NOUN PREP ADJF NOUN. ...</td>\n",
              "    </tr>\n",
              "    <tr>\n",
              "      <th>1</th>\n",
              "      <td>dariko_kutaladze</td>\n",
              "      <td>15 минут и 50 рублей, чтобы сделать необычную ...</td>\n",
              "      <td>21013</td>\n",
              "      <td>Минута и рубль чтобы сделать необычный свеча в...</td>\n",
              "      <td>NOUN CONJ NOUN CONJ INFN ADJF NOUN PREP NOUN. ...</td>\n",
              "    </tr>\n",
              "    <tr>\n",
              "      <th>2</th>\n",
              "      <td>dariko_kutaladze</td>\n",
              "      <td>Загадочная история Бенджамина...Пуфика😂\\n\\nИли...</td>\n",
              "      <td>20723</td>\n",
              "      <td>Загадочный история бенджамин или как из старое...</td>\n",
              "      <td>ADJF NOUN NOUN CONJ CONJ PREP NOUN NOUN PREP P...</td>\n",
              "    </tr>\n",
              "    <tr>\n",
              "      <th>3</th>\n",
              "      <td>dariko_kutaladze</td>\n",
              "      <td>Говорят, как Новый год встретишь, так его и п...</td>\n",
              "      <td>29809</td>\n",
              "      <td>Говорить как год встретить так он и. Поэтому я...</td>\n",
              "      <td>VERB CONJ NOUN VERB CONJ NPRO CONJ. ADVB NPRO ...</td>\n",
              "    </tr>\n",
              "    <tr>\n",
              "      <th>4</th>\n",
              "      <td>dariko_kutaladze</td>\n",
              "      <td>Как говорил великий Лев Толстой: «Счастлив т...</td>\n",
              "      <td>16636</td>\n",
              "      <td>Как говорить лев счастливый тот кто счастливый...</td>\n",
              "      <td>CONJ VERB NOUN ADJS ADJF NPRO ADJS PREP NPRO N...</td>\n",
              "    </tr>\n",
              "  </tbody>\n",
              "</table>\n",
              "</div>"
            ],
            "text/plain": [
              "              names  ...                                                pos\n",
              "0  dariko_kutaladze  ...  ADVB NPRO VERB PREP ADJF NOUN PREP ADJF NOUN. ...\n",
              "1  dariko_kutaladze  ...  NOUN CONJ NOUN CONJ INFN ADJF NOUN PREP NOUN. ...\n",
              "2  dariko_kutaladze  ...  ADJF NOUN NOUN CONJ CONJ PREP NOUN NOUN PREP P...\n",
              "3  dariko_kutaladze  ...  VERB CONJ NOUN VERB CONJ NPRO CONJ. ADVB NPRO ...\n",
              "4  dariko_kutaladze  ...  CONJ VERB NOUN ADJS ADJF NPRO ADJS PREP NPRO N...\n",
              "\n",
              "[5 rows x 5 columns]"
            ]
          },
          "metadata": {
            "tags": []
          },
          "execution_count": 28
        }
      ]
    },
    {
      "cell_type": "code",
      "metadata": {
        "id": "ar0zwj4oy7As"
      },
      "source": [
        "df.to_csv('instagram_corpora.csv')"
      ],
      "execution_count": null,
      "outputs": []
    },
    {
      "cell_type": "markdown",
      "metadata": {
        "id": "odFFlGavnreu"
      },
      "source": [
        "# Выгружаем отдельные корпуса"
      ]
    },
    {
      "cell_type": "code",
      "metadata": {
        "id": "O-jPeZ-ztXRC"
      },
      "source": [
        "for c in df.columns[[0,1,3,4]]:\n",
        "  df[c] = df[c].apply(lambda x: str(x))"
      ],
      "execution_count": 34,
      "outputs": []
    },
    {
      "cell_type": "markdown",
      "metadata": {
        "id": "O7EsSgQQuhF_"
      },
      "source": [
        "Корпус лематизированных текстов:"
      ]
    },
    {
      "cell_type": "code",
      "metadata": {
        "id": "7ZBpylQWnrMj",
        "colab": {
          "base_uri": "https://localhost:8080/",
          "height": 111
        },
        "outputId": "bb7193c8-da09-4669-e63c-bc679ebb6ccf"
      },
      "source": [
        "df2 = df.groupby(['names'], as_index = False).agg({'lemmatized_text': ''.join})\n",
        "df2.to_excel('lem_texts.xlsx', header=False, index=False)\n",
        "df2.head(2)"
      ],
      "execution_count": 36,
      "outputs": [
        {
          "output_type": "execute_result",
          "data": {
            "text/html": [
              "<div>\n",
              "<style scoped>\n",
              "    .dataframe tbody tr th:only-of-type {\n",
              "        vertical-align: middle;\n",
              "    }\n",
              "\n",
              "    .dataframe tbody tr th {\n",
              "        vertical-align: top;\n",
              "    }\n",
              "\n",
              "    .dataframe thead th {\n",
              "        text-align: right;\n",
              "    }\n",
              "</style>\n",
              "<table border=\"1\" class=\"dataframe\">\n",
              "  <thead>\n",
              "    <tr style=\"text-align: right;\">\n",
              "      <th></th>\n",
              "      <th>names</th>\n",
              "      <th>lemmatized_text</th>\n",
              "    </tr>\n",
              "  </thead>\n",
              "  <tbody>\n",
              "    <tr>\n",
              "      <th>0</th>\n",
              "      <td>dariko_kutaladze</td>\n",
              "      <td>Вчера я побывать в волшебный место из свой зак...</td>\n",
              "    </tr>\n",
              "    <tr>\n",
              "      <th>1</th>\n",
              "      <td>dasha_cher</td>\n",
              "      <td>Самый необычный факт про америка для я некотор...</td>\n",
              "    </tr>\n",
              "  </tbody>\n",
              "</table>\n",
              "</div>"
            ],
            "text/plain": [
              "              names                                    lemmatized_text\n",
              "0  dariko_kutaladze  Вчера я побывать в волшебный место из свой зак...\n",
              "1        dasha_cher  Самый необычный факт про америка для я некотор..."
            ]
          },
          "metadata": {
            "tags": []
          },
          "execution_count": 36
        }
      ]
    },
    {
      "cell_type": "markdown",
      "metadata": {
        "id": "g4dcyKrsulRf"
      },
      "source": [
        "Корпус текстов в первоначальном виде:"
      ]
    },
    {
      "cell_type": "code",
      "metadata": {
        "id": "9qls2XDZn6Od",
        "colab": {
          "base_uri": "https://localhost:8080/",
          "height": 111
        },
        "outputId": "96c68276-6cfe-4759-b2b5-a97c0e47a074"
      },
      "source": [
        "df3 = df.groupby(['names'], as_index = False).agg({'texts': ''.join})\n",
        "df3.to_excel('texts.xlsx', header=False, index=False)\n",
        "df3.head(2)"
      ],
      "execution_count": 37,
      "outputs": [
        {
          "output_type": "execute_result",
          "data": {
            "text/html": [
              "<div>\n",
              "<style scoped>\n",
              "    .dataframe tbody tr th:only-of-type {\n",
              "        vertical-align: middle;\n",
              "    }\n",
              "\n",
              "    .dataframe tbody tr th {\n",
              "        vertical-align: top;\n",
              "    }\n",
              "\n",
              "    .dataframe thead th {\n",
              "        text-align: right;\n",
              "    }\n",
              "</style>\n",
              "<table border=\"1\" class=\"dataframe\">\n",
              "  <thead>\n",
              "    <tr style=\"text-align: right;\">\n",
              "      <th></th>\n",
              "      <th>names</th>\n",
              "      <th>texts</th>\n",
              "    </tr>\n",
              "  </thead>\n",
              "  <tbody>\n",
              "    <tr>\n",
              "      <th>0</th>\n",
              "      <td>dariko_kutaladze</td>\n",
              "      <td>Вчера я побывала в ВОЛШЕБНОМ месте из своих за...</td>\n",
              "    </tr>\n",
              "    <tr>\n",
              "      <th>1</th>\n",
              "      <td>dasha_cher</td>\n",
              "      <td>Самые необычные факты про Америку 🇺🇸🤯⠀\\n⠀\\nДля...</td>\n",
              "    </tr>\n",
              "  </tbody>\n",
              "</table>\n",
              "</div>"
            ],
            "text/plain": [
              "              names                                              texts\n",
              "0  dariko_kutaladze  Вчера я побывала в ВОЛШЕБНОМ месте из своих за...\n",
              "1        dasha_cher  Самые необычные факты про Америку 🇺🇸🤯⠀\\n⠀\\nДля..."
            ]
          },
          "metadata": {
            "tags": []
          },
          "execution_count": 37
        }
      ]
    },
    {
      "cell_type": "markdown",
      "metadata": {
        "id": "_WsdIR0FuoeQ"
      },
      "source": [
        "Корпус текстов, в котором каждое слово замененно на его часть речи:"
      ]
    },
    {
      "cell_type": "code",
      "metadata": {
        "id": "GJ5baOpBn6By",
        "colab": {
          "base_uri": "https://localhost:8080/",
          "height": 111
        },
        "outputId": "3ebe28f5-ad2c-4ce9-87d5-97dfe0970569"
      },
      "source": [
        "df4 = df.groupby(['names'], as_index = False).agg({'pos': ''.join})\n",
        "df4.to_excel('pos.xlsx', header=False, index=False)\n",
        "df4.head(2)"
      ],
      "execution_count": 38,
      "outputs": [
        {
          "output_type": "execute_result",
          "data": {
            "text/html": [
              "<div>\n",
              "<style scoped>\n",
              "    .dataframe tbody tr th:only-of-type {\n",
              "        vertical-align: middle;\n",
              "    }\n",
              "\n",
              "    .dataframe tbody tr th {\n",
              "        vertical-align: top;\n",
              "    }\n",
              "\n",
              "    .dataframe thead th {\n",
              "        text-align: right;\n",
              "    }\n",
              "</style>\n",
              "<table border=\"1\" class=\"dataframe\">\n",
              "  <thead>\n",
              "    <tr style=\"text-align: right;\">\n",
              "      <th></th>\n",
              "      <th>names</th>\n",
              "      <th>pos</th>\n",
              "    </tr>\n",
              "  </thead>\n",
              "  <tbody>\n",
              "    <tr>\n",
              "      <th>0</th>\n",
              "      <td>dariko_kutaladze</td>\n",
              "      <td>ADVB NPRO VERB PREP ADJF NOUN PREP ADJF NOUN. ...</td>\n",
              "    </tr>\n",
              "    <tr>\n",
              "      <th>1</th>\n",
              "      <td>dasha_cher</td>\n",
              "      <td>ADJF ADJF NOUN PREP NOUN PREP NPRO ADJF VERB P...</td>\n",
              "    </tr>\n",
              "  </tbody>\n",
              "</table>\n",
              "</div>"
            ],
            "text/plain": [
              "              names                                                pos\n",
              "0  dariko_kutaladze  ADVB NPRO VERB PREP ADJF NOUN PREP ADJF NOUN. ...\n",
              "1        dasha_cher  ADJF ADJF NOUN PREP NOUN PREP NPRO ADJF VERB P..."
            ]
          },
          "metadata": {
            "tags": []
          },
          "execution_count": 38
        }
      ]
    },
    {
      "cell_type": "markdown",
      "metadata": {
        "id": "SER6uSRBuxwb"
      },
      "source": [
        "Корпус популярных постов:"
      ]
    },
    {
      "cell_type": "code",
      "metadata": {
        "id": "BVPGqQVOuDNK"
      },
      "source": [
        "import matplotlib.pyplot as plt\n",
        "%matplotlib inline\n",
        "import seaborn as sns"
      ],
      "execution_count": 39,
      "outputs": []
    },
    {
      "cell_type": "code",
      "metadata": {
        "colab": {
          "base_uri": "https://localhost:8080/",
          "height": 389
        },
        "id": "kLvEpAP9u3xp",
        "outputId": "573b428e-3328-4771-d219-38adac98f357"
      },
      "source": [
        "plt.figure(figsize=(10, 6))\n",
        "sns.boxplot(x='names', y='likes', data=df)\n",
        "plt.show()"
      ],
      "execution_count": 40,
      "outputs": [
        {
          "output_type": "display_data",
          "data": {
            "image/png": "[encoded data removed]",
            "text/plain": [
              "<Figure size 720x432 with 1 Axes>"
            ]
          },
          "metadata": {
            "tags": [],
            "needs_background": "light"
          }
        }
      ]
    },
    {
      "cell_type": "markdown",
      "metadata": {
        "id": "-AuQj3i6u7f4"
      },
      "source": [
        "Понятно, что разброс по лайкам среди блогеров очень большой, поэтому возьмем 10% самых популярных постов каждого блогера:"
      ]
    },
    {
      "cell_type": "code",
      "metadata": {
        "id": "rPyPkZftn5w1",
        "colab": {
          "base_uri": "https://localhost:8080/",
          "height": 111
        },
        "outputId": "ff708179-32ec-47ce-d567-b883f8b75602"
      },
      "source": [
        "df5 = df.groupby('names', group_keys=False)['likes'].nlargest(5).to_frame().reset_index()\n",
        "df5['lem_text'] = df5['level_1'].apply(lambda x: df1['lemmatized_text'][x])\n",
        "df5 = df5.groupby(['names'], as_index = False).agg({'lem_text': ''.join})\n",
        "df5.to_excel('most_liked.xlsx', header=False, index=False)\n",
        "df5.head(2)"
      ],
      "execution_count": 41,
      "outputs": [
        {
          "output_type": "execute_result",
          "data": {
            "text/html": [
              "<div>\n",
              "<style scoped>\n",
              "    .dataframe tbody tr th:only-of-type {\n",
              "        vertical-align: middle;\n",
              "    }\n",
              "\n",
              "    .dataframe tbody tr th {\n",
              "        vertical-align: top;\n",
              "    }\n",
              "\n",
              "    .dataframe thead th {\n",
              "        text-align: right;\n",
              "    }\n",
              "</style>\n",
              "<table border=\"1\" class=\"dataframe\">\n",
              "  <thead>\n",
              "    <tr style=\"text-align: right;\">\n",
              "      <th></th>\n",
              "      <th>names</th>\n",
              "      <th>lem_text</th>\n",
              "    </tr>\n",
              "  </thead>\n",
              "  <tbody>\n",
              "    <tr>\n",
              "      <th>0</th>\n",
              "      <td>dariko_kutaladze</td>\n",
              "      <td>Говорить как год встретить так он и. Поэтому я...</td>\n",
              "    </tr>\n",
              "    <tr>\n",
              "      <th>1</th>\n",
              "      <td>dasha_cher</td>\n",
              "      <td>Мы это сделать. Мы побить собственный рекорд в...</td>\n",
              "    </tr>\n",
              "  </tbody>\n",
              "</table>\n",
              "</div>"
            ],
            "text/plain": [
              "              names                                           lem_text\n",
              "0  dariko_kutaladze  Говорить как год встретить так он и. Поэтому я...\n",
              "1        dasha_cher  Мы это сделать. Мы побить собственный рекорд в..."
            ]
          },
          "metadata": {
            "tags": []
          },
          "execution_count": 41
        }
      ]
    },
    {
      "cell_type": "markdown",
      "metadata": {
        "id": "q73tmpwZv4ES"
      },
      "source": [
        "## Создание двух газетных корпусов: лематизированного и частеречного\n"
      ]
    },
    {
      "cell_type": "code",
      "metadata": {
        "id": "qmqGJXCRv3zK"
      },
      "source": [
        "from zipfile import ZipFile\n",
        "file_name = 'news.zip'\n",
        "\n",
        "with ZipFile(file_name, 'r') as zip:\n",
        "  zip.extractall()"
      ],
      "execution_count": 42,
      "outputs": []
    },
    {
      "cell_type": "code",
      "metadata": {
        "id": "UYOx4721ygrG"
      },
      "source": [
        "news = []"
      ],
      "execution_count": 43,
      "outputs": []
    },
    {
      "cell_type": "code",
      "metadata": {
        "id": "PQZHU_7Gv3ke"
      },
      "source": [
        "import os\n",
        "\n",
        "for filename in os.listdir('news'):\n",
        "    news.append(read_txt(os.path.join('news', filename)))"
      ],
      "execution_count": 44,
      "outputs": []
    },
    {
      "cell_type": "code",
      "metadata": {
        "id": "DYlri-hKzRwc"
      },
      "source": [
        "news_lem = [lemmatize_text(elem) for elem in news]"
      ],
      "execution_count": 45,
      "outputs": []
    },
    {
      "cell_type": "code",
      "metadata": {
        "id": "ErW9BVyV1FVt"
      },
      "source": [
        "with open ('news.txt', 'w') as f:\n",
        "  f.write('\\n\\n'.join(news_lem))"
      ],
      "execution_count": 46,
      "outputs": []
    },
    {
      "cell_type": "code",
      "metadata": {
        "id": "EdhJH_Qn2DiK"
      },
      "source": [
        "news_pos = [pos_text(elem) for elem in news]"
      ],
      "execution_count": 47,
      "outputs": []
    },
    {
      "cell_type": "code",
      "metadata": {
        "id": "HpOlM90x2LRE"
      },
      "source": [
        "with open ('news_pos.txt', 'w') as f:\n",
        "  f.write('\\n\\n'.join(news_pos))"
      ],
      "execution_count": 48,
      "outputs": []
    },
    {
      "cell_type": "markdown",
      "metadata": {
        "id": "J-stAeEz5q7Q"
      },
      "source": [
        "## Самые частые слова разных частей речи\n"
      ]
    },
    {
      "cell_type": "code",
      "metadata": {
        "id": "iu6zLq9M5qeA"
      },
      "source": [
        "st = '\\n'.join(df['lemmatized_text'])"
      ],
      "execution_count": 49,
      "outputs": []
    },
    {
      "cell_type": "code",
      "metadata": {
        "id": "Xe9ipZBx5qKp"
      },
      "source": [
        "df0 = pd.DataFrame({'words':[t.lower() for t in word_tokenize(''.join(st.split('.'))) if t.isalpha()]})"
      ],
      "execution_count": 52,
      "outputs": []
    },
    {
      "cell_type": "code",
      "metadata": {
        "colab": {
          "base_uri": "https://localhost:8080/"
        },
        "id": "gA2pRNh55qAp",
        "outputId": "044ef8d2-f03a-4e6b-8302-c95eb8245f7a"
      },
      "source": [
        "df0.shape"
      ],
      "execution_count": 53,
      "outputs": [
        {
          "output_type": "execute_result",
          "data": {
            "text/plain": [
              "(101310, 1)"
            ]
          },
          "metadata": {
            "tags": []
          },
          "execution_count": 53
        }
      ]
    },
    {
      "cell_type": "code",
      "metadata": {
        "id": "jpXMcys__8us"
      },
      "source": [
        "f_df = df0.pivot_table(index=['words'], aggfunc='size').reset_index()"
      ],
      "execution_count": 54,
      "outputs": []
    },
    {
      "cell_type": "code",
      "metadata": {
        "id": "ClEDlm61_8bP"
      },
      "source": [
        "f_df['pos'] = f_df['words'].apply(lambda x: pos(x))"
      ],
      "execution_count": 55,
      "outputs": []
    },
    {
      "cell_type": "code",
      "metadata": {
        "id": "UmJCzijNCrY_"
      },
      "source": [
        "f_df = f_df.rename(columns={0:'count'})"
      ],
      "execution_count": 56,
      "outputs": []
    },
    {
      "cell_type": "markdown",
      "metadata": {
        "id": "v_Oxnc68CI46"
      },
      "source": [
        "# frequent verbs"
      ]
    },
    {
      "cell_type": "code",
      "metadata": {
        "colab": {
          "base_uri": "https://localhost:8080/",
          "height": 979
        },
        "id": "hOgDwDXwCCRv",
        "outputId": "47d1f31e-4a54-440f-9ab6-caac479f88bc"
      },
      "source": [
        "f_df[(f_df['pos']=='VERB')|(f_df['pos']=='INFN')].sort_values(by=['count'], ascending=False).head(30)"
      ],
      "execution_count": 57,
      "outputs": [
        {
          "output_type": "execute_result",
          "data": {
            "text/html": [
              "<div>\n",
              "<style scoped>\n",
              "    .dataframe tbody tr th:only-of-type {\n",
              "        vertical-align: middle;\n",
              "    }\n",
              "\n",
              "    .dataframe tbody tr th {\n",
              "        vertical-align: top;\n",
              "    }\n",
              "\n",
              "    .dataframe thead th {\n",
              "        text-align: right;\n",
              "    }\n",
              "</style>\n",
              "<table border=\"1\" class=\"dataframe\">\n",
              "  <thead>\n",
              "    <tr style=\"text-align: right;\">\n",
              "      <th></th>\n",
              "      <th>words</th>\n",
              "      <th>count</th>\n",
              "      <th>pos</th>\n",
              "    </tr>\n",
              "  </thead>\n",
              "  <tbody>\n",
              "    <tr>\n",
              "      <th>1194</th>\n",
              "      <td>быть</td>\n",
              "      <td>1193</td>\n",
              "      <td>INFN</td>\n",
              "    </tr>\n",
              "    <tr>\n",
              "      <th>10106</th>\n",
              "      <td>хотеть</td>\n",
              "      <td>369</td>\n",
              "      <td>INFN</td>\n",
              "    </tr>\n",
              "    <tr>\n",
              "      <th>2601</th>\n",
              "      <td>есть</td>\n",
              "      <td>298</td>\n",
              "      <td>INFN</td>\n",
              "    </tr>\n",
              "    <tr>\n",
              "      <th>3112</th>\n",
              "      <td>знать</td>\n",
              "      <td>283</td>\n",
              "      <td>INFN</td>\n",
              "    </tr>\n",
              "    <tr>\n",
              "      <th>2246</th>\n",
              "      <td>делать</td>\n",
              "      <td>219</td>\n",
              "      <td>INFN</td>\n",
              "    </tr>\n",
              "    <tr>\n",
              "      <th>8234</th>\n",
              "      <td>сделать</td>\n",
              "      <td>194</td>\n",
              "      <td>INFN</td>\n",
              "    </tr>\n",
              "    <tr>\n",
              "      <th>2537</th>\n",
              "      <td>думать</td>\n",
              "      <td>169</td>\n",
              "      <td>INFN</td>\n",
              "    </tr>\n",
              "    <tr>\n",
              "      <th>4198</th>\n",
              "      <td>любить</td>\n",
              "      <td>168</td>\n",
              "      <td>INFN</td>\n",
              "    </tr>\n",
              "    <tr>\n",
              "      <th>8886</th>\n",
              "      <td>стать</td>\n",
              "      <td>151</td>\n",
              "      <td>INFN</td>\n",
              "    </tr>\n",
              "    <tr>\n",
              "      <th>8359</th>\n",
              "      <td>сказать</td>\n",
              "      <td>148</td>\n",
              "      <td>INFN</td>\n",
              "    </tr>\n",
              "    <tr>\n",
              "      <th>2690</th>\n",
              "      <td>жить</td>\n",
              "      <td>140</td>\n",
              "      <td>INFN</td>\n",
              "    </tr>\n",
              "    <tr>\n",
              "      <th>1995</th>\n",
              "      <td>говорить</td>\n",
              "      <td>130</td>\n",
              "      <td>INFN</td>\n",
              "    </tr>\n",
              "    <tr>\n",
              "      <th>8523</th>\n",
              "      <td>смотреть</td>\n",
              "      <td>121</td>\n",
              "      <td>INFN</td>\n",
              "    </tr>\n",
              "    <tr>\n",
              "      <th>6271</th>\n",
              "      <td>писать</td>\n",
              "      <td>115</td>\n",
              "      <td>INFN</td>\n",
              "    </tr>\n",
              "    <tr>\n",
              "      <th>4945</th>\n",
              "      <td>начать</td>\n",
              "      <td>107</td>\n",
              "      <td>INFN</td>\n",
              "    </tr>\n",
              "    <tr>\n",
              "      <th>1380</th>\n",
              "      <td>видеть</td>\n",
              "      <td>106</td>\n",
              "      <td>INFN</td>\n",
              "    </tr>\n",
              "    <tr>\n",
              "      <th>2633</th>\n",
              "      <td>ждать</td>\n",
              "      <td>102</td>\n",
              "      <td>INFN</td>\n",
              "    </tr>\n",
              "    <tr>\n",
              "      <th>6742</th>\n",
              "      <td>понять</td>\n",
              "      <td>99</td>\n",
              "      <td>INFN</td>\n",
              "    </tr>\n",
              "    <tr>\n",
              "      <th>7786</th>\n",
              "      <td>рассказать</td>\n",
              "      <td>97</td>\n",
              "      <td>INFN</td>\n",
              "    </tr>\n",
              "    <tr>\n",
              "      <th>7582</th>\n",
              "      <td>работать</td>\n",
              "      <td>95</td>\n",
              "      <td>INFN</td>\n",
              "    </tr>\n",
              "    <tr>\n",
              "      <th>7948</th>\n",
              "      <td>решить</td>\n",
              "      <td>92</td>\n",
              "      <td>INFN</td>\n",
              "    </tr>\n",
              "    <tr>\n",
              "      <th>6735</th>\n",
              "      <td>понимать</td>\n",
              "      <td>91</td>\n",
              "      <td>INFN</td>\n",
              "    </tr>\n",
              "    <tr>\n",
              "      <th>5271</th>\n",
              "      <td>нравиться</td>\n",
              "      <td>91</td>\n",
              "      <td>INFN</td>\n",
              "    </tr>\n",
              "    <tr>\n",
              "      <th>10107</th>\n",
              "      <td>хотеться</td>\n",
              "      <td>90</td>\n",
              "      <td>INFN</td>\n",
              "    </tr>\n",
              "    <tr>\n",
              "      <th>3170</th>\n",
              "      <td>идти</td>\n",
              "      <td>86</td>\n",
              "      <td>INFN</td>\n",
              "    </tr>\n",
              "    <tr>\n",
              "      <th>4771</th>\n",
              "      <td>найти</td>\n",
              "      <td>85</td>\n",
              "      <td>INFN</td>\n",
              "    </tr>\n",
              "    <tr>\n",
              "      <th>4827</th>\n",
              "      <td>написать</td>\n",
              "      <td>82</td>\n",
              "      <td>INFN</td>\n",
              "    </tr>\n",
              "    <tr>\n",
              "      <th>8927</th>\n",
              "      <td>стоить</td>\n",
              "      <td>80</td>\n",
              "      <td>INFN</td>\n",
              "    </tr>\n",
              "    <tr>\n",
              "      <th>10293</th>\n",
              "      <td>чувствовать</td>\n",
              "      <td>73</td>\n",
              "      <td>INFN</td>\n",
              "    </tr>\n",
              "    <tr>\n",
              "      <th>1705</th>\n",
              "      <td>выбрать</td>\n",
              "      <td>72</td>\n",
              "      <td>INFN</td>\n",
              "    </tr>\n",
              "  </tbody>\n",
              "</table>\n",
              "</div>"
            ],
            "text/plain": [
              "             words  count   pos\n",
              "1194          быть   1193  INFN\n",
              "10106       хотеть    369  INFN\n",
              "2601          есть    298  INFN\n",
              "3112         знать    283  INFN\n",
              "2246        делать    219  INFN\n",
              "8234       сделать    194  INFN\n",
              "2537        думать    169  INFN\n",
              "4198        любить    168  INFN\n",
              "8886         стать    151  INFN\n",
              "8359       сказать    148  INFN\n",
              "2690          жить    140  INFN\n",
              "1995      говорить    130  INFN\n",
              "8523      смотреть    121  INFN\n",
              "6271        писать    115  INFN\n",
              "4945        начать    107  INFN\n",
              "1380        видеть    106  INFN\n",
              "2633         ждать    102  INFN\n",
              "6742        понять     99  INFN\n",
              "7786    рассказать     97  INFN\n",
              "7582      работать     95  INFN\n",
              "7948        решить     92  INFN\n",
              "6735      понимать     91  INFN\n",
              "5271     нравиться     91  INFN\n",
              "10107     хотеться     90  INFN\n",
              "3170          идти     86  INFN\n",
              "4771         найти     85  INFN\n",
              "4827      написать     82  INFN\n",
              "8927        стоить     80  INFN\n",
              "10293  чувствовать     73  INFN\n",
              "1705       выбрать     72  INFN"
            ]
          },
          "metadata": {
            "tags": []
          },
          "execution_count": 57
        }
      ]
    },
    {
      "cell_type": "markdown",
      "metadata": {
        "id": "_aqcRpSGvb1q"
      },
      "source": [
        "# frequent nouns"
      ]
    },
    {
      "cell_type": "code",
      "metadata": {
        "colab": {
          "base_uri": "https://localhost:8080/",
          "height": 979
        },
        "id": "997Xa42Q_8Ou",
        "outputId": "cb53843d-18b1-4573-f58a-7aba64707b6e"
      },
      "source": [
        "f_df[(f_df['pos']=='NOUN')].sort_values(by=['count'], ascending=False).head(30)"
      ],
      "execution_count": 58,
      "outputs": [
        {
          "output_type": "execute_result",
          "data": {
            "text/html": [
              "<div>\n",
              "<style scoped>\n",
              "    .dataframe tbody tr th:only-of-type {\n",
              "        vertical-align: middle;\n",
              "    }\n",
              "\n",
              "    .dataframe tbody tr th {\n",
              "        vertical-align: top;\n",
              "    }\n",
              "\n",
              "    .dataframe thead th {\n",
              "        text-align: right;\n",
              "    }\n",
              "</style>\n",
              "<table border=\"1\" class=\"dataframe\">\n",
              "  <thead>\n",
              "    <tr style=\"text-align: right;\">\n",
              "      <th></th>\n",
              "      <th>words</th>\n",
              "      <th>count</th>\n",
              "      <th>pos</th>\n",
              "    </tr>\n",
              "  </thead>\n",
              "  <tbody>\n",
              "    <tr>\n",
              "      <th>1997</th>\n",
              "      <td>год</td>\n",
              "      <td>519</td>\n",
              "      <td>NOUN</td>\n",
              "    </tr>\n",
              "    <tr>\n",
              "      <th>4607</th>\n",
              "      <td>мочь</td>\n",
              "      <td>399</td>\n",
              "      <td>NOUN</td>\n",
              "    </tr>\n",
              "    <tr>\n",
              "      <th>2266</th>\n",
              "      <td>день</td>\n",
              "      <td>283</td>\n",
              "      <td>NOUN</td>\n",
              "    </tr>\n",
              "    <tr>\n",
              "      <th>10227</th>\n",
              "      <td>человек</td>\n",
              "      <td>257</td>\n",
              "      <td>NOUN</td>\n",
              "    </tr>\n",
              "    <tr>\n",
              "      <th>2676</th>\n",
              "      <td>жизнь</td>\n",
              "      <td>255</td>\n",
              "      <td>NOUN</td>\n",
              "    </tr>\n",
              "    <tr>\n",
              "      <th>1636</th>\n",
              "      <td>время</td>\n",
              "      <td>247</td>\n",
              "      <td>NOUN</td>\n",
              "    </tr>\n",
              "    <tr>\n",
              "      <th>7604</th>\n",
              "      <td>раз</td>\n",
              "      <td>222</td>\n",
              "      <td>NOUN</td>\n",
              "    </tr>\n",
              "    <tr>\n",
              "      <th>7866</th>\n",
              "      <td>ребёнок</td>\n",
              "      <td>207</td>\n",
              "      <td>NOUN</td>\n",
              "    </tr>\n",
              "    <tr>\n",
              "      <th>4429</th>\n",
              "      <td>месяц</td>\n",
              "      <td>176</td>\n",
              "      <td>NOUN</td>\n",
              "    </tr>\n",
              "    <tr>\n",
              "      <th>6848</th>\n",
              "      <td>пост</td>\n",
              "      <td>158</td>\n",
              "      <td>NOUN</td>\n",
              "    </tr>\n",
              "    <tr>\n",
              "      <th>2520</th>\n",
              "      <td>друг</td>\n",
              "      <td>150</td>\n",
              "      <td>NOUN</td>\n",
              "    </tr>\n",
              "    <tr>\n",
              "      <th>2444</th>\n",
              "      <td>дом</td>\n",
              "      <td>147</td>\n",
              "      <td>NOUN</td>\n",
              "    </tr>\n",
              "    <tr>\n",
              "      <th>4623</th>\n",
              "      <td>муж</td>\n",
              "      <td>137</td>\n",
              "      <td>NOUN</td>\n",
              "    </tr>\n",
              "    <tr>\n",
              "      <th>4275</th>\n",
              "      <td>мама</td>\n",
              "      <td>134</td>\n",
              "      <td>NOUN</td>\n",
              "    </tr>\n",
              "    <tr>\n",
              "      <th>7581</th>\n",
              "      <td>работа</td>\n",
              "      <td>129</td>\n",
              "      <td>NOUN</td>\n",
              "    </tr>\n",
              "    <tr>\n",
              "      <th>5828</th>\n",
              "      <td>отношение</td>\n",
              "      <td>114</td>\n",
              "      <td>NOUN</td>\n",
              "    </tr>\n",
              "    <tr>\n",
              "      <th>2267</th>\n",
              "      <td>деньга</td>\n",
              "      <td>105</td>\n",
              "      <td>NOUN</td>\n",
              "    </tr>\n",
              "    <tr>\n",
              "      <th>1567</th>\n",
              "      <td>вопрос</td>\n",
              "      <td>101</td>\n",
              "      <td>NOUN</td>\n",
              "    </tr>\n",
              "    <tr>\n",
              "      <th>9982</th>\n",
              "      <td>фото</td>\n",
              "      <td>99</td>\n",
              "      <td>NOUN</td>\n",
              "    </tr>\n",
              "    <tr>\n",
              "      <th>3385</th>\n",
              "      <td>история</td>\n",
              "      <td>97</td>\n",
              "      <td>NOUN</td>\n",
              "    </tr>\n",
              "    <tr>\n",
              "      <th>2255</th>\n",
              "      <td>дело</td>\n",
              "      <td>94</td>\n",
              "      <td>NOUN</td>\n",
              "    </tr>\n",
              "    <tr>\n",
              "      <th>2201</th>\n",
              "      <td>девочка</td>\n",
              "      <td>93</td>\n",
              "      <td>NOUN</td>\n",
              "    </tr>\n",
              "    <tr>\n",
              "      <th>8274</th>\n",
              "      <td>семья</td>\n",
              "      <td>91</td>\n",
              "      <td>NOUN</td>\n",
              "    </tr>\n",
              "    <tr>\n",
              "      <th>8943</th>\n",
              "      <td>сториза</td>\n",
              "      <td>90</td>\n",
              "      <td>NOUN</td>\n",
              "    </tr>\n",
              "    <tr>\n",
              "      <th>4564</th>\n",
              "      <td>момент</td>\n",
              "      <td>87</td>\n",
              "      <td>NOUN</td>\n",
              "    </tr>\n",
              "    <tr>\n",
              "      <th>4426</th>\n",
              "      <td>место</td>\n",
              "      <td>86</td>\n",
              "      <td>NOUN</td>\n",
              "    </tr>\n",
              "    <tr>\n",
              "      <th>3698</th>\n",
              "      <td>комментарий</td>\n",
              "      <td>84</td>\n",
              "      <td>NOUN</td>\n",
              "    </tr>\n",
              "    <tr>\n",
              "      <th>3533</th>\n",
              "      <td>квартира</td>\n",
              "      <td>77</td>\n",
              "      <td>NOUN</td>\n",
              "    </tr>\n",
              "    <tr>\n",
              "      <th>10205</th>\n",
              "      <td>час</td>\n",
              "      <td>77</td>\n",
              "      <td>NOUN</td>\n",
              "    </tr>\n",
              "    <tr>\n",
              "      <th>4999</th>\n",
              "      <td>неделя</td>\n",
              "      <td>76</td>\n",
              "      <td>NOUN</td>\n",
              "    </tr>\n",
              "  </tbody>\n",
              "</table>\n",
              "</div>"
            ],
            "text/plain": [
              "             words  count   pos\n",
              "1997           год    519  NOUN\n",
              "4607          мочь    399  NOUN\n",
              "2266          день    283  NOUN\n",
              "10227      человек    257  NOUN\n",
              "2676         жизнь    255  NOUN\n",
              "1636         время    247  NOUN\n",
              "7604           раз    222  NOUN\n",
              "7866       ребёнок    207  NOUN\n",
              "4429         месяц    176  NOUN\n",
              "6848          пост    158  NOUN\n",
              "2520          друг    150  NOUN\n",
              "2444           дом    147  NOUN\n",
              "4623           муж    137  NOUN\n",
              "4275          мама    134  NOUN\n",
              "7581        работа    129  NOUN\n",
              "5828     отношение    114  NOUN\n",
              "2267        деньга    105  NOUN\n",
              "1567        вопрос    101  NOUN\n",
              "9982          фото     99  NOUN\n",
              "3385       история     97  NOUN\n",
              "2255          дело     94  NOUN\n",
              "2201       девочка     93  NOUN\n",
              "8274         семья     91  NOUN\n",
              "8943       сториза     90  NOUN\n",
              "4564        момент     87  NOUN\n",
              "4426         место     86  NOUN\n",
              "3698   комментарий     84  NOUN\n",
              "3533      квартира     77  NOUN\n",
              "10205          час     77  NOUN\n",
              "4999        неделя     76  NOUN"
            ]
          },
          "metadata": {
            "tags": []
          },
          "execution_count": 58
        }
      ]
    },
    {
      "cell_type": "markdown",
      "metadata": {
        "id": "9b3Ase1_wavP"
      },
      "source": [
        "# frequent adjectives"
      ]
    },
    {
      "cell_type": "code",
      "metadata": {
        "colab": {
          "base_uri": "https://localhost:8080/",
          "height": 979
        },
        "id": "5NsfHpcBaprU",
        "outputId": "85fdf75b-e715-4410-8cb7-6e94de9f8228"
      },
      "source": [
        "f_df[(f_df['pos']=='ADJS')|(f_df['pos']=='ADJF')].sort_values(by=['count'], ascending=False).head(30)"
      ],
      "execution_count": null,
      "outputs": [
        {
          "output_type": "execute_result",
          "data": {
            "text/html": [
              "<div>\n",
              "<style scoped>\n",
              "    .dataframe tbody tr th:only-of-type {\n",
              "        vertical-align: middle;\n",
              "    }\n",
              "\n",
              "    .dataframe tbody tr th {\n",
              "        vertical-align: top;\n",
              "    }\n",
              "\n",
              "    .dataframe thead th {\n",
              "        text-align: right;\n",
              "    }\n",
              "</style>\n",
              "<table border=\"1\" class=\"dataframe\">\n",
              "  <thead>\n",
              "    <tr style=\"text-align: right;\">\n",
              "      <th></th>\n",
              "      <th>words</th>\n",
              "      <th>count</th>\n",
              "      <th>pos</th>\n",
              "      <th>TF</th>\n",
              "    </tr>\n",
              "  </thead>\n",
              "  <tbody>\n",
              "    <tr>\n",
              "      <th>4545</th>\n",
              "      <td>мой</td>\n",
              "      <td>588</td>\n",
              "      <td>ADJF</td>\n",
              "      <td>False</td>\n",
              "    </tr>\n",
              "    <tr>\n",
              "      <th>8202</th>\n",
              "      <td>свой</td>\n",
              "      <td>531</td>\n",
              "      <td>ADJF</td>\n",
              "      <td>False</td>\n",
              "    </tr>\n",
              "    <tr>\n",
              "      <th>10509</th>\n",
              "      <td>этот</td>\n",
              "      <td>455</td>\n",
              "      <td>ADJF</td>\n",
              "      <td>False</td>\n",
              "    </tr>\n",
              "    <tr>\n",
              "      <th>1330</th>\n",
              "      <td>весь</td>\n",
              "      <td>445</td>\n",
              "      <td>ADJF</td>\n",
              "      <td>False</td>\n",
              "    </tr>\n",
              "    <tr>\n",
              "      <th>3837</th>\n",
              "      <td>который</td>\n",
              "      <td>430</td>\n",
              "      <td>ADJF</td>\n",
              "      <td>False</td>\n",
              "    </tr>\n",
              "    <tr>\n",
              "      <th>9346</th>\n",
              "      <td>тот</td>\n",
              "      <td>395</td>\n",
              "      <td>ADJF</td>\n",
              "      <td>False</td>\n",
              "    </tr>\n",
              "    <tr>\n",
              "      <th>9147</th>\n",
              "      <td>такой</td>\n",
              "      <td>374</td>\n",
              "      <td>ADJF</td>\n",
              "      <td>False</td>\n",
              "    </tr>\n",
              "    <tr>\n",
              "      <th>5494</th>\n",
              "      <td>один</td>\n",
              "      <td>302</td>\n",
              "      <td>ADJF</td>\n",
              "      <td>False</td>\n",
              "    </tr>\n",
              "    <tr>\n",
              "      <th>10103</th>\n",
              "      <td>хороший</td>\n",
              "      <td>273</td>\n",
              "      <td>ADJF</td>\n",
              "      <td>False</td>\n",
              "    </tr>\n",
              "    <tr>\n",
              "      <th>1083</th>\n",
              "      <td>большой</td>\n",
              "      <td>271</td>\n",
              "      <td>ADJF</td>\n",
              "      <td>False</td>\n",
              "    </tr>\n",
              "    <tr>\n",
              "      <th>8093</th>\n",
              "      <td>сам</td>\n",
              "      <td>212</td>\n",
              "      <td>ADJF</td>\n",
              "      <td>False</td>\n",
              "    </tr>\n",
              "    <tr>\n",
              "      <th>3432</th>\n",
              "      <td>какой</td>\n",
              "      <td>206</td>\n",
              "      <td>ADJF</td>\n",
              "      <td>False</td>\n",
              "    </tr>\n",
              "    <tr>\n",
              "      <th>3415</th>\n",
              "      <td>каждый</td>\n",
              "      <td>199</td>\n",
              "      <td>ADJF</td>\n",
              "      <td>False</td>\n",
              "    </tr>\n",
              "    <tr>\n",
              "      <th>4955</th>\n",
              "      <td>наш</td>\n",
              "      <td>198</td>\n",
              "      <td>ADJF</td>\n",
              "      <td>False</td>\n",
              "    </tr>\n",
              "    <tr>\n",
              "      <th>8121</th>\n",
              "      <td>самый</td>\n",
              "      <td>189</td>\n",
              "      <td>ADJF</td>\n",
              "      <td>False</td>\n",
              "    </tr>\n",
              "    <tr>\n",
              "      <th>5226</th>\n",
              "      <td>новый</td>\n",
              "      <td>179</td>\n",
              "      <td>ADJF</td>\n",
              "      <td>False</td>\n",
              "    </tr>\n",
              "    <tr>\n",
              "      <th>1248</th>\n",
              "      <td>ваш</td>\n",
              "      <td>163</td>\n",
              "      <td>ADJF</td>\n",
              "      <td>False</td>\n",
              "    </tr>\n",
              "    <tr>\n",
              "      <th>2521</th>\n",
              "      <td>другой</td>\n",
              "      <td>154</td>\n",
              "      <td>ADJF</td>\n",
              "      <td>False</td>\n",
              "    </tr>\n",
              "    <tr>\n",
              "      <th>6090</th>\n",
              "      <td>первый</td>\n",
              "      <td>151</td>\n",
              "      <td>ADJF</td>\n",
              "      <td>False</td>\n",
              "    </tr>\n",
              "    <tr>\n",
              "      <th>4205</th>\n",
              "      <td>любой</td>\n",
              "      <td>93</td>\n",
              "      <td>ADJF</td>\n",
              "      <td>False</td>\n",
              "    </tr>\n",
              "    <tr>\n",
              "      <th>5278</th>\n",
              "      <td>нужный</td>\n",
              "      <td>91</td>\n",
              "      <td>ADJF</td>\n",
              "      <td>False</td>\n",
              "    </tr>\n",
              "    <tr>\n",
              "      <th>3864</th>\n",
              "      <td>красивый</td>\n",
              "      <td>77</td>\n",
              "      <td>ADJF</td>\n",
              "      <td>False</td>\n",
              "    </tr>\n",
              "    <tr>\n",
              "      <th>4195</th>\n",
              "      <td>любимый</td>\n",
              "      <td>70</td>\n",
              "      <td>ADJF</td>\n",
              "      <td>False</td>\n",
              "    </tr>\n",
              "    <tr>\n",
              "      <th>2441</th>\n",
              "      <td>должный</td>\n",
              "      <td>69</td>\n",
              "      <td>ADJF</td>\n",
              "      <td>False</td>\n",
              "    </tr>\n",
              "    <tr>\n",
              "      <th>4256</th>\n",
              "      <td>маленький</td>\n",
              "      <td>68</td>\n",
              "      <td>ADJF</td>\n",
              "      <td>False</td>\n",
              "    </tr>\n",
              "    <tr>\n",
              "      <th>9185</th>\n",
              "      <td>твой</td>\n",
              "      <td>68</td>\n",
              "      <td>ADJF</td>\n",
              "      <td>False</td>\n",
              "    </tr>\n",
              "    <tr>\n",
              "      <th>6829</th>\n",
              "      <td>последний</td>\n",
              "      <td>64</td>\n",
              "      <td>ADJF</td>\n",
              "      <td>False</td>\n",
              "    </tr>\n",
              "    <tr>\n",
              "      <th>2060</th>\n",
              "      <td>готовый</td>\n",
              "      <td>62</td>\n",
              "      <td>ADJF</td>\n",
              "      <td>False</td>\n",
              "    </tr>\n",
              "    <tr>\n",
              "      <th>3944</th>\n",
              "      <td>крутой</td>\n",
              "      <td>58</td>\n",
              "      <td>ADJF</td>\n",
              "      <td>False</td>\n",
              "    </tr>\n",
              "    <tr>\n",
              "      <th>5478</th>\n",
              "      <td>огромный</td>\n",
              "      <td>56</td>\n",
              "      <td>ADJF</td>\n",
              "      <td>False</td>\n",
              "    </tr>\n",
              "  </tbody>\n",
              "</table>\n",
              "</div>"
            ],
            "text/plain": [
              "           words  count   pos     TF\n",
              "4545         мой    588  ADJF  False\n",
              "8202        свой    531  ADJF  False\n",
              "10509       этот    455  ADJF  False\n",
              "1330        весь    445  ADJF  False\n",
              "3837     который    430  ADJF  False\n",
              "9346         тот    395  ADJF  False\n",
              "9147       такой    374  ADJF  False\n",
              "5494        один    302  ADJF  False\n",
              "10103    хороший    273  ADJF  False\n",
              "1083     большой    271  ADJF  False\n",
              "8093         сам    212  ADJF  False\n",
              "3432       какой    206  ADJF  False\n",
              "3415      каждый    199  ADJF  False\n",
              "4955         наш    198  ADJF  False\n",
              "8121       самый    189  ADJF  False\n",
              "5226       новый    179  ADJF  False\n",
              "1248         ваш    163  ADJF  False\n",
              "2521      другой    154  ADJF  False\n",
              "6090      первый    151  ADJF  False\n",
              "4205       любой     93  ADJF  False\n",
              "5278      нужный     91  ADJF  False\n",
              "3864    красивый     77  ADJF  False\n",
              "4195     любимый     70  ADJF  False\n",
              "2441     должный     69  ADJF  False\n",
              "4256   маленький     68  ADJF  False\n",
              "9185        твой     68  ADJF  False\n",
              "6829   последний     64  ADJF  False\n",
              "2060     готовый     62  ADJF  False\n",
              "3944      крутой     58  ADJF  False\n",
              "5478    огромный     56  ADJF  False"
            ]
          },
          "metadata": {
            "tags": []
          },
          "execution_count": 125
        }
      ]
    },
    {
      "cell_type": "markdown",
      "metadata": {
        "id": "eXvwt3X7wi69"
      },
      "source": [
        "## Разница новостей и постов"
      ]
    },
    {
      "cell_type": "markdown",
      "metadata": {
        "id": "FcLPr8vRwo36"
      },
      "source": [
        "Данные были перенесены из результатов работы в Voyant Tools"
      ]
    },
    {
      "cell_type": "code",
      "metadata": {
        "id": "SOV4PJ4ld7x1"
      },
      "source": [
        "df_vis = pd.DataFrame({'names':['dariko', 'dasha', 'djuelita', 'kristi',\n",
        "       'kartss', 'club', 'maslova', 'mezenova',\n",
        "       'sofia1405', 'natalia', 'nioly', 'ololol',\n",
        "       'yana'],\n",
        "       'numbers':[0.312, 0.313, 0.314, 0.314, 0.300, 0.271, 0.250, 0.328, 0.300, 0.300, 0.268, 0.272, 0.300],\n",
        "       'numbers2' : [0.140, 0.140, 0.140, 0.140, 0.140, 0.140, 0.140, 0.140, 0.140, 0.140, 0.140, 0.140, 0.140]})"
      ],
      "execution_count": 59,
      "outputs": []
    },
    {
      "cell_type": "code",
      "metadata": {
        "colab": {
          "base_uri": "https://localhost:8080/",
          "height": 320
        },
        "id": "EVeLK869d7lK",
        "outputId": "74caf33d-f89c-49cb-8f84-4d4c929d47c9"
      },
      "source": [
        "plt.figure(figsize=[10, 5])\n",
        "sns.lineplot(data=df_vis, x=\"names\", y=\"numbers\", label='bloggers', color='skyblue', linewidth=7)\n",
        "sns.lineplot(data=df_vis, x=\"names\", y=\"numbers2\", label = 'news', color='purple', linewidth=7)\n",
        "plt.ylabel('vocabulary density')\n",
        "plt.xlabel('')\n",
        "plt.legend()\n",
        "plt.show()"
      ],
      "execution_count": 60,
      "outputs": [
        {
          "output_type": "display_data",
          "data": {
            "image/png": "[encoded data removed]",
            "text/plain": [
              "<Figure size 720x360 with 1 Axes>"
            ]
          },
          "metadata": {
            "tags": [],
            "needs_background": "light"
          }
        }
      ]
    }
  ]
}